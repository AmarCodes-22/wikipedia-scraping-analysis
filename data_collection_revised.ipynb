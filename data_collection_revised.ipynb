{
 "cells": [
  {
   "cell_type": "code",
   "execution_count": 1,
   "id": "3a91d939-41bb-4f4c-8340-914ea54c9b00",
   "metadata": {},
   "outputs": [],
   "source": [
    "import requests\n",
    "from bs4 import BeautifulSoup\n",
    "import pyparsing as pp\n",
    "import re"
   ]
  },
  {
   "cell_type": "code",
   "execution_count": 2,
   "id": "30c6e0bc-c9c6-4154-b60e-b729564117f2",
   "metadata": {},
   "outputs": [],
   "source": [
    "res = requests.get('https://en.wikipedia.org/wiki/Epistemology')\n",
    "webpage_html = BeautifulSoup(res.content, 'html.parser')"
   ]
  },
  {
   "cell_type": "code",
   "execution_count": 3,
   "id": "e17308b5-d34d-4666-87be-1022e9bb53f6",
   "metadata": {},
   "outputs": [],
   "source": [
    "first5para_ptags = webpage_html.select('div#mw-content-text div.mw-parser-output > p')[:5]"
   ]
  },
  {
   "cell_type": "code",
   "execution_count": 4,
   "id": "96eb4be9-1172-4e8e-bad8-443b3b6c06e3",
   "metadata": {
    "scrolled": true,
    "tags": []
   },
   "outputs": [
    {
     "data": {
      "text/plain": [
       "{'/ɪˌpɪstɪˈmɒlədʒi/': '/wiki/Help:IPA/English',\n",
       " '': '/wiki/File:En-uk-epistemology.ogg',\n",
       " 'listen': '//upload.wikimedia.org/wikipedia/commons/6/63/En-uk-epistemology.ogg',\n",
       " 'Greek': '/wiki/Greek_language',\n",
       " 'ἐπιστήμη': 'https://en.wiktionary.org/wiki/%E1%BC%90%CF%80%CE%B9%CF%83%CF%84%CE%AE%CE%BC%CE%B7',\n",
       " '-logy': '/wiki/-logy',\n",
       " 'branch of philosophy': '/wiki/Outline_of_philosophy',\n",
       " 'knowledge': '/wiki/Knowledge',\n",
       " 'justification': '/wiki/Justification_(epistemology)',\n",
       " 'rationality': '/wiki/Reason',\n",
       " 'belief': '/wiki/Belief',\n",
       " 'ethics': '/wiki/Ethics',\n",
       " 'logic': '/wiki/Logic',\n",
       " 'metaphysics': '/wiki/Metaphysics',\n",
       " '[1]': '#cite_note-Britannica-1',\n",
       " '[2]': '#cite_note-SEP_Epistemology_2014-2',\n",
       " '[3]': '#cite_note-IEP-3',\n",
       " '[4]': '#cite_note-4',\n",
       " '[5]': '#cite_note-5',\n",
       " '[6]': '#cite_note-SEP_Epistemology_Current-6',\n",
       " '[7]': '#cite_note-7',\n",
       " 'epistēmē': '/wiki/Episteme',\n",
       " 'discourse': '/wiki/Discourse',\n",
       " '[8]': '#cite_note-8',\n",
       " 'Johann Fichte': '/wiki/Johann_Fichte',\n",
       " 'Bernard Bolzano': '/wiki/Bernard_Bolzano',\n",
       " 'Jean Paul': '/wiki/Jean_Paul'}"
      ]
     },
     "execution_count": 4,
     "metadata": {},
     "output_type": "execute_result"
    }
   ],
   "source": [
    "def get_all_links(ptags):\n",
    "    \n",
    "    links={}\n",
    "    \n",
    "    all_links = []\n",
    "    for para in ptags:\n",
    "        all_links_in_para = para.find_all('a')\n",
    "        all_links.extend(all_links_in_para)\n",
    "    \n",
    "    #all_links_text = []\n",
    "    for link in all_links:\n",
    "        try:\n",
    "            link_key = link.get_text()\n",
    "            link_value = link['href']\n",
    "            links[link_key] = link_value\n",
    "        except KeyError:\n",
    "            print(link)\n",
    "            \n",
    "    return links\n",
    "\n",
    "links = get_all_links(first5para_ptags)\n",
    "links"
   ]
  },
  {
   "cell_type": "code",
   "execution_count": 5,
   "id": "d141da79-906f-42a5-b473-9da21c6c0e21",
   "metadata": {},
   "outputs": [],
   "source": [
    "def get_para_text(ptags):\n",
    "    first5para_text = ''\n",
    "    for para in ptags:\n",
    "        first5para_text = first5para_text + para.text\n",
    "        \n",
    "    return first5para_text"
   ]
  },
  {
   "cell_type": "code",
   "execution_count": 7,
   "id": "d8ebb5ba-7afb-4aad-8144-12a946d89584",
   "metadata": {},
   "outputs": [],
   "source": [
    "first5para_text = get_para_text(first5para_ptags)\n",
    "first5para_text"
   ]
  },
  {
   "cell_type": "code",
   "execution_count": 32,
   "id": "afcdf9ee-8556-490a-9e00-def9cd7ec53e",
   "metadata": {},
   "outputs": [
    {
     "name": "stdout",
     "output_type": "stream",
     "text": [
      "\n",
      "Epistemology ) is the branch of philosophy concerned with knowledge. Epistemologists study the nature, origin, and scope of knowledge, epistemic justification, the rationality of belief, and various related issues. Epistemology is considered one of the four main branches of philosophy, along with ethics, logic, and metaphysics.]\n",
      "Debates in epistemology are generally clustered around four core areas:]]]\n",
      "In these debates and others, epistemology aims to answer questions such as \"What do we know?\", \"What does it mean to say that we know something?\", \"What makes justified beliefs justified?\", and \"How do we know that we know?\".]]]]]\n",
      "The word epistemology is derived from the ancient Greek epistēmē, meaning \"knowledge\", and the suffix -logia, meaning \"logical discourse\" ).] The word's appearance in English was predated by the German term Wissenschaftslehre ), which was introduced by philosophers Johann Fichte and Bernard Bolzano in the late 18th century. The word \"epistemology\" first appeared in 1847, in a review in New York's Eclectic Magazine. It was first used as a translation of the word Wissenschaftslehre as it appears in a philosophical novel by German author Jean Paul:\n",
      "\n"
     ]
    }
   ],
   "source": [
    "bracket_count = 0\n",
    "clean_text = ''\n",
    "for i in first5para_text:\n",
    "    if i == '(' or i == '[':\n",
    "        bracket_count += 1\n",
    "    if i == ')' or i == ']':\n",
    "        bracket_count -= 1\n",
    "        \n",
    "    if bracket_count == 0:\n",
    "        clean_text += i\n",
    "        \n",
    "print(clean_text)"
   ]
  },
  {
   "cell_type": "code",
   "execution_count": 45,
   "id": "035cc5fe-9669-4f23-92dc-5f34f50d79f8",
   "metadata": {},
   "outputs": [
    {
     "data": {
      "text/plain": [
       "'/wiki/Outline_of_philosophy'"
      ]
     },
     "execution_count": 45,
     "metadata": {},
     "output_type": "execute_result"
    }
   ],
   "source": [
    "clean_links = {}\n",
    "for index, key in enumerate(links):\n",
    "    if key in clean_text and key != '':\n",
    "        pos = clean_text.index(key)\n",
    "        clean_links[pos] = key\n",
    "        #print(key, links[key], clean_text.index(key))\n",
    "        \n",
    "#min(clean_links.keys())\n",
    "ans_key = clean_links[min(clean_links.keys())]\n",
    "links[ans_key]\n",
    "\n",
    "#link_keys = links.keys()\n",
    "#link_keys"
   ]
  },
  {
   "cell_type": "code",
   "execution_count": 38,
   "id": "a03b666a-9cd7-43fa-95b9-053bcc1acc96",
   "metadata": {},
   "outputs": [
    {
     "data": {
      "text/plain": [
       "False"
      ]
     },
     "execution_count": 38,
     "metadata": {},
     "output_type": "execute_result"
    }
   ],
   "source": []
  },
  {
   "cell_type": "code",
   "execution_count": null,
   "id": "a54e2f7a-acbc-43db-950b-9f6c9e31b83f",
   "metadata": {},
   "outputs": [],
   "source": []
  },
  {
   "cell_type": "markdown",
   "id": "25af12d8-06c6-4355-9da9-8cda3340bee5",
   "metadata": {
    "heading_collapsed": "true",
    "tags": []
   },
   "source": [
    "# Junk"
   ]
  },
  {
   "cell_type": "code",
   "execution_count": null,
   "id": "9c4b21eb-aca1-41ca-9daa-e74c760b320e",
   "metadata": {},
   "outputs": [],
   "source": []
  },
  {
   "cell_type": "code",
   "execution_count": null,
   "id": "4deb047f-3747-42bf-b47e-c37bc83a7396",
   "metadata": {},
   "outputs": [],
   "source": []
  }
 ],
 "metadata": {
  "kernelspec": {
   "display_name": "Python 3.9.5 64-bit ('wiki': conda)",
   "language": "python",
   "name": "python395jvsc74a57bd079c2fa05caa7bb66d2ff5e2ba3de1428b8e2b23880e05851d41a66cb242471f7"
  },
  "language_info": {
   "codemirror_mode": {
    "name": "ipython",
    "version": 3
   },
   "file_extension": ".py",
   "mimetype": "text/x-python",
   "name": "python",
   "nbconvert_exporter": "python",
   "pygments_lexer": "ipython3",
   "version": "3.9.5"
  }
 },
 "nbformat": 4,
 "nbformat_minor": 5
}
